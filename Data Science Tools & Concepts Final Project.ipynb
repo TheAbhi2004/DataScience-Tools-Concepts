{
 "cells": [
  {
   "cell_type": "markdown",
   "id": "f5f20379-8dac-44fb-b4df-e74ea949e48d",
   "metadata": {},
   "source": [
    "#### Final Project: Data Science Tools & Concepts"
   ]
  },
  {
   "cell_type": "markdown",
   "id": "8313e9fc-8d7e-42bc-b2e6-1df2a5607ed2",
   "metadata": {},
   "source": [
    "# Introduction to this Data Science Final Project \n",
    "This interactive JupyterLite notebook represents the culmination of the \"Introduction to Data Science\" course. Here, I aim to showcase my understanding and practical application of fundamental data science methodologies and tools. Through a series of carefully constructed Markdown and code cells, this notebook explores various aspects, from basic arithmetic operations to listing critical data science resources, all within the user-friendly Jupyter environment."
   ]
  },
  {
   "cell_type": "markdown",
   "id": "aca210fb-114a-4493-a964-629e6b22a2e1",
   "metadata": {},
   "source": [
    "### Data Science Languages\n",
    "\n",
    "* Python\n",
    "* R\n",
    "* SQL\n",
    "* Julia\n",
    "* Scala"
   ]
  },
  {
   "cell_type": "markdown",
   "id": "68dcb223-feff-4785-b77a-b4ed9303e6db",
   "metadata": {},
   "source": [
    "### Data Science Libraries\n",
    "\n",
    "* *Python:* Pandas, NumPy, Scikit-learn, Matplotlib, Seaborn, TensorFlow, Keras, PyTorch\n",
    "* *R:* Dplyr, Ggplot2, Caret\n",
    "* *Julia:* DataFrames.jl"
   ]
  },
  {
   "cell_type": "markdown",
   "id": "49baa50a-43dc-4155-8975-90d88701e236",
   "metadata": {},
   "source": [
    "### Data Science Tools\n",
    "\n",
    "| Category             | Tool Name           | Description                                       |\n",
    "| :------------------- | :------------------ | :------------------------------------------------ |\n",
    "| Development Env.     | Jupyter Notebook    | Interactive computing environment.                 |\n",
    "| Data Visualization   | Tableau             | Business intelligence and data visualization tool. |\n",
    "| Big Data             | Apache Spark        | Distributed computing system.                     |"
   ]
  },
  {
   "cell_type": "markdown",
   "id": "5ff49a7e-8b64-429a-ad1a-26f3a15cd79a",
   "metadata": {},
   "source": [
    "### Exploring Arithmetic Expressions\n",
    "\n",
    "In this section, we will delve into fundamental arithmetic expressions in Python. The subsequent code cell illustrates how to perform common mathematical operations such as addition and multiplication."
   ]
  },
  {
   "cell_type": "code",
   "execution_count": 1,
   "id": "8823e2b2-4cc7-407b-92cd-7014308aa03b",
   "metadata": {},
   "outputs": [
    {
     "name": "stdout",
     "output_type": "stream",
     "text": [
      "The product of 5 and 10 is: 50\n",
      "The sum of 15 and 7 is: 22\n"
     ]
    }
   ],
   "source": [
    "# Multiply two numbers\n",
    "num1 = 5\n",
    "num2 = 10\n",
    "product = num1 * num2\n",
    "print(f\"The product of {num1} and {num2} is: {product}\")\n",
    "\n",
    "# Add two numbers\n",
    "num3 = 15\n",
    "num4 = 7\n",
    "sum_result = num3 + num4\n",
    "print(f\"The sum of {num3} and {num4} is: {sum_result}\")"
   ]
  },
  {
   "cell_type": "code",
   "execution_count": 2,
   "id": "69c54be5-ff20-4130-a8b1-c429c3ef5da3",
   "metadata": {},
   "outputs": [
    {
     "name": "stdout",
     "output_type": "stream",
     "text": [
      "180 minutes is equal to 3.0 hours.\n"
     ]
    }
   ],
   "source": [
    "# Convert minutes to hours\n",
    "minutes = 180  # Example: 180 minutes\n",
    "hours = minutes / 60\n",
    "print(f\"{minutes} minutes is equal to {hours} hours.\")"
   ]
  },
  {
   "cell_type": "markdown",
   "id": "9fa85c5b-0bc5-4d7d-a90d-79049b115492",
   "metadata": {},
   "source": [
    "### Objectives\n",
    "\n",
    "The primary objectives of this notebook are to:\n",
    "\n",
    "* Demonstrate proficiency in creating and formatting Markdown cells.\n",
    "* Showcase basic Python programming for data manipulation.\n",
    "* List common data science languages, libraries, and tools.\n",
    "* Practice sharing a Jupyterlite notebook via GitHub."
   ]
  },
  {
   "cell_type": "markdown",
   "id": "5eb3e834-4d4b-446e-9b00-f12a1884d2fd",
   "metadata": {},
   "source": [
    "---\n",
    "### Author\n",
    "\n",
    "Abhishek Pal"
   ]
  },
  {
   "cell_type": "code",
   "execution_count": null,
   "id": "0ccb54be-ba6a-4028-afd8-253b7b75eb64",
   "metadata": {},
   "outputs": [],
   "source": []
  }
 ],
 "metadata": {
  "kernelspec": {
   "display_name": "Python 3 (ipykernel)",
   "language": "python",
   "name": "python3"
  },
  "language_info": {
   "codemirror_mode": {
    "name": "ipython",
    "version": 3
   },
   "file_extension": ".py",
   "mimetype": "text/x-python",
   "name": "python",
   "nbconvert_exporter": "python",
   "pygments_lexer": "ipython3",
   "version": "3.13.2"
  }
 },
 "nbformat": 4,
 "nbformat_minor": 5
}
